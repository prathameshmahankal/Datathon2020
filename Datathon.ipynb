{
 "cells": [
  {
   "cell_type": "code",
   "execution_count": 1,
   "metadata": {
    "colab": {},
    "colab_type": "code",
    "id": "ZnQr4EO7urIS"
   },
   "outputs": [],
   "source": [
    "import pandas as pd"
   ]
  },
  {
   "cell_type": "markdown",
   "metadata": {},
   "source": [
    "## Data Importing and Cleaning ##"
   ]
  },
  {
   "cell_type": "code",
   "execution_count": 135,
   "metadata": {
    "colab": {
     "base_uri": "https://localhost:8080/",
     "height": 496
    },
    "colab_type": "code",
    "id": "L_QsJTlTlNwI",
    "outputId": "77d0aaaf-1fc2-43f5-cc67-dd8cc79f0b43"
   },
   "outputs": [
    {
     "data": {
      "text/html": [
       "<div>\n",
       "<style scoped>\n",
       "    .dataframe tbody tr th:only-of-type {\n",
       "        vertical-align: middle;\n",
       "    }\n",
       "\n",
       "    .dataframe tbody tr th {\n",
       "        vertical-align: top;\n",
       "    }\n",
       "\n",
       "    .dataframe thead th {\n",
       "        text-align: right;\n",
       "    }\n",
       "</style>\n",
       "<table border=\"1\" class=\"dataframe\">\n",
       "  <thead>\n",
       "    <tr style=\"text-align: right;\">\n",
       "      <th></th>\n",
       "      <th>Unnamed: 0</th>\n",
       "      <th>TICKET</th>\n",
       "      <th>UNITS</th>\n",
       "      <th>REFERENCE</th>\n",
       "      <th>CODE</th>\n",
       "      <th>NAME</th>\n",
       "      <th>UNIT_PRICEBUY</th>\n",
       "      <th>UNIT_PRICESELL</th>\n",
       "      <th>DATETIME</th>\n",
       "      <th>PAYMENT</th>\n",
       "      <th>TRANSID</th>\n",
       "      <th>CATEGORY</th>\n",
       "      <th>TOTAL_PRICEBUY</th>\n",
       "      <th>TOTAL_PRICESELL</th>\n",
       "      <th>UNIT_PRICE_MARGIN</th>\n",
       "      <th>PROFIT</th>\n",
       "      <th>DATE</th>\n",
       "      <th>MONTH</th>\n",
       "    </tr>\n",
       "  </thead>\n",
       "  <tbody>\n",
       "    <tr>\n",
       "      <th>0</th>\n",
       "      <td>0</td>\n",
       "      <td>d9ea23a9-8a1b-41b4-b554-2bf7e96ca2d9</td>\n",
       "      <td>3.292</td>\n",
       "      <td>1079</td>\n",
       "      <td>1.079000e+03</td>\n",
       "      <td>Pumpkin Japanese/Kent</td>\n",
       "      <td>0.0</td>\n",
       "      <td>1.99</td>\n",
       "      <td>2016-03-16 23:15:39</td>\n",
       "      <td>cash</td>\n",
       "      <td>no ID</td>\n",
       "      <td>Pumpkins</td>\n",
       "      <td>0.000</td>\n",
       "      <td>6.55108</td>\n",
       "      <td>1.99</td>\n",
       "      <td>6.55108</td>\n",
       "      <td>2016-03-16</td>\n",
       "      <td>2016-03</td>\n",
       "    </tr>\n",
       "    <tr>\n",
       "      <th>1</th>\n",
       "      <td>1</td>\n",
       "      <td>d9ea23a9-8a1b-41b4-b554-2bf7e96ca2d9</td>\n",
       "      <td>0.290</td>\n",
       "      <td>2032</td>\n",
       "      <td>2.032000e+03</td>\n",
       "      <td>Orange navel</td>\n",
       "      <td>0.0</td>\n",
       "      <td>2.99</td>\n",
       "      <td>2016-03-16 23:15:39</td>\n",
       "      <td>cash</td>\n",
       "      <td>no ID</td>\n",
       "      <td>Citrus</td>\n",
       "      <td>0.000</td>\n",
       "      <td>0.86710</td>\n",
       "      <td>2.99</td>\n",
       "      <td>0.86710</td>\n",
       "      <td>2016-03-16</td>\n",
       "      <td>2016-03</td>\n",
       "    </tr>\n",
       "    <tr>\n",
       "      <th>3</th>\n",
       "      <td>3</td>\n",
       "      <td>aa299de6-1332-48ba-bce9-de8cbb48741e</td>\n",
       "      <td>3.292</td>\n",
       "      <td>1001</td>\n",
       "      <td>1.001000e+03</td>\n",
       "      <td>Australian Asparagus green</td>\n",
       "      <td>2.0</td>\n",
       "      <td>2.70</td>\n",
       "      <td>2016-03-16 23:19:47</td>\n",
       "      <td>cash</td>\n",
       "      <td>no ID</td>\n",
       "      <td>Bunch Vegies</td>\n",
       "      <td>6.584</td>\n",
       "      <td>8.88840</td>\n",
       "      <td>0.70</td>\n",
       "      <td>2.30440</td>\n",
       "      <td>2016-03-16</td>\n",
       "      <td>2016-03</td>\n",
       "    </tr>\n",
       "    <tr>\n",
       "      <th>4</th>\n",
       "      <td>4</td>\n",
       "      <td>aa299de6-1332-48ba-bce9-de8cbb48741e</td>\n",
       "      <td>1.000</td>\n",
       "      <td>4019</td>\n",
       "      <td>8.888101e+12</td>\n",
       "      <td>Nice Munchee 200g</td>\n",
       "      <td>0.9</td>\n",
       "      <td>1.50</td>\n",
       "      <td>2016-03-16 23:19:47</td>\n",
       "      <td>cash</td>\n",
       "      <td>no ID</td>\n",
       "      <td>Sri Lankan Groceries</td>\n",
       "      <td>0.900</td>\n",
       "      <td>1.50000</td>\n",
       "      <td>0.60</td>\n",
       "      <td>0.60000</td>\n",
       "      <td>2016-03-16</td>\n",
       "      <td>2016-03</td>\n",
       "    </tr>\n",
       "    <tr>\n",
       "      <th>5</th>\n",
       "      <td>5</td>\n",
       "      <td>fccc4298-a401-414a-98fc-192d4bf9735c</td>\n",
       "      <td>2.230</td>\n",
       "      <td>1001</td>\n",
       "      <td>1.001000e+03</td>\n",
       "      <td>Australian Asparagus green</td>\n",
       "      <td>2.0</td>\n",
       "      <td>2.70</td>\n",
       "      <td>2016-03-16 23:20:23</td>\n",
       "      <td>cash</td>\n",
       "      <td>no ID</td>\n",
       "      <td>Bunch Vegies</td>\n",
       "      <td>4.460</td>\n",
       "      <td>6.02100</td>\n",
       "      <td>0.70</td>\n",
       "      <td>1.56100</td>\n",
       "      <td>2016-03-16</td>\n",
       "      <td>2016-03</td>\n",
       "    </tr>\n",
       "  </tbody>\n",
       "</table>\n",
       "</div>"
      ],
      "text/plain": [
       "   Unnamed: 0                                TICKET  UNITS  REFERENCE  \\\n",
       "0           0  d9ea23a9-8a1b-41b4-b554-2bf7e96ca2d9  3.292       1079   \n",
       "1           1  d9ea23a9-8a1b-41b4-b554-2bf7e96ca2d9  0.290       2032   \n",
       "3           3  aa299de6-1332-48ba-bce9-de8cbb48741e  3.292       1001   \n",
       "4           4  aa299de6-1332-48ba-bce9-de8cbb48741e  1.000       4019   \n",
       "5           5  fccc4298-a401-414a-98fc-192d4bf9735c  2.230       1001   \n",
       "\n",
       "           CODE                         NAME  UNIT_PRICEBUY  UNIT_PRICESELL  \\\n",
       "0  1.079000e+03        Pumpkin Japanese/Kent            0.0            1.99   \n",
       "1  2.032000e+03                 Orange navel            0.0            2.99   \n",
       "3  1.001000e+03   Australian Asparagus green            2.0            2.70   \n",
       "4  8.888101e+12            Nice Munchee 200g            0.9            1.50   \n",
       "5  1.001000e+03   Australian Asparagus green            2.0            2.70   \n",
       "\n",
       "              DATETIME PAYMENT TRANSID              CATEGORY  TOTAL_PRICEBUY  \\\n",
       "0  2016-03-16 23:15:39    cash   no ID              Pumpkins           0.000   \n",
       "1  2016-03-16 23:15:39    cash   no ID                Citrus           0.000   \n",
       "3  2016-03-16 23:19:47    cash   no ID          Bunch Vegies           6.584   \n",
       "4  2016-03-16 23:19:47    cash   no ID  Sri Lankan Groceries           0.900   \n",
       "5  2016-03-16 23:20:23    cash   no ID          Bunch Vegies           4.460   \n",
       "\n",
       "   TOTAL_PRICESELL  UNIT_PRICE_MARGIN   PROFIT        DATE    MONTH  \n",
       "0          6.55108               1.99  6.55108  2016-03-16  2016-03  \n",
       "1          0.86710               2.99  0.86710  2016-03-16  2016-03  \n",
       "3          8.88840               0.70  2.30440  2016-03-16  2016-03  \n",
       "4          1.50000               0.60  0.60000  2016-03-16  2016-03  \n",
       "5          6.02100               0.70  1.56100  2016-03-16  2016-03  "
      ]
     },
     "execution_count": 135,
     "metadata": {},
     "output_type": "execute_result"
    }
   ],
   "source": [
    "df = pd.read_csv('grocery_store_data_cleaned.csv')\n",
    "df = df[df['PAYMENT'].isin(['cash','magcard'])]\n",
    "df.rename({'DATE':'DATETIME'}, axis=1, inplace=True)\n",
    "df['DATE'] = pd.to_datetime(df['DATETIME']).dt.to_period('D')\n",
    "df['MONTH'] = pd.to_datetime(df['DATETIME']).dt.to_period('M')\n",
    "df.head()"
   ]
  },
  {
   "cell_type": "code",
   "execution_count": 136,
   "metadata": {
    "colab": {},
    "colab_type": "code",
    "id": "dMwzjMDslUt7"
   },
   "outputs": [
    {
     "data": {
      "text/plain": [
       "Other Vegies            64901\n",
       "Bananas                 43965\n",
       "Potatoes                38171\n",
       "Citrus                  37398\n",
       "Tomatoes                34832\n",
       "Onions                  34664\n",
       "Apples                  31992\n",
       "Bunch Vegies            25978\n",
       "Stonefruits             25808\n",
       "Lettuces                19275\n",
       "Cucumbers               18913\n",
       "capsicum                17916\n",
       "Grapes                  17339\n",
       "Melons                  17007\n",
       "Sri Lankan Groceries    16041\n",
       "Asian Vegies            15878\n",
       "Pears                   15756\n",
       "Herbs                   15378\n",
       "Groceries-Dry Goods     14903\n",
       "Pumpkins                14296\n",
       "carrots                 13908\n",
       "Multi buy               13859\n",
       "Cut Veggies             12374\n",
       "Eggs                    10970\n",
       "Tropical Fruits          9764\n",
       "Chillies                 9559\n",
       "Mushrooms                9345\n",
       "Other Fruits             8945\n",
       "Berries                  7263\n",
       "Avocadoes                6970\n",
       "Root Vegies              6887\n",
       "Olympian Products        5360\n",
       "Cabbages                 3631\n",
       "Fruits                   3353\n",
       "Nuts                     3309\n",
       "Pastas                   2972\n",
       "trutaste                 2691\n",
       "markdown bag             1982\n",
       "Flowers                  1673\n",
       "coconut Products         1314\n",
       "Kalamata olives          1152\n",
       "Veggies                  1137\n",
       "Cut Fruits                339\n",
       "Name: CATEGORY, dtype: int64"
      ]
     },
     "execution_count": 136,
     "metadata": {},
     "output_type": "execute_result"
    }
   ],
   "source": [
    "df.CATEGORY.value_counts()"
   ]
  },
  {
   "cell_type": "markdown",
   "metadata": {},
   "source": [
    "### As you can see, there are several categories, with multiple products per category. ###\n",
    "\n",
    "\n",
    "### For this case, we will only use the grapes category since we observed that the grapes category has a good amount of seasonality and trend which makes the task challenging ###"
   ]
  },
  {
   "cell_type": "code",
   "execution_count": 8,
   "metadata": {
    "colab": {},
    "colab_type": "code",
    "id": "bc7EwvchqnT_"
   },
   "outputs": [],
   "source": [
    "df_temp = df[df['CATEGORY']=='Grapes']"
   ]
  },
  {
   "cell_type": "code",
   "execution_count": 145,
   "metadata": {},
   "outputs": [
    {
     "data": {
      "text/html": [
       "<div>\n",
       "<style scoped>\n",
       "    .dataframe tbody tr th:only-of-type {\n",
       "        vertical-align: middle;\n",
       "    }\n",
       "\n",
       "    .dataframe tbody tr th {\n",
       "        vertical-align: top;\n",
       "    }\n",
       "\n",
       "    .dataframe thead th {\n",
       "        text-align: right;\n",
       "    }\n",
       "</style>\n",
       "<table border=\"1\" class=\"dataframe\">\n",
       "  <thead>\n",
       "    <tr style=\"text-align: right;\">\n",
       "      <th></th>\n",
       "      <th>TICKET</th>\n",
       "    </tr>\n",
       "    <tr>\n",
       "      <th>DATE</th>\n",
       "      <th></th>\n",
       "    </tr>\n",
       "  </thead>\n",
       "  <tbody>\n",
       "    <tr>\n",
       "      <th>2016-03-17</th>\n",
       "      <td>65</td>\n",
       "    </tr>\n",
       "    <tr>\n",
       "      <th>2016-03-18</th>\n",
       "      <td>18</td>\n",
       "    </tr>\n",
       "    <tr>\n",
       "      <th>2016-03-19</th>\n",
       "      <td>18</td>\n",
       "    </tr>\n",
       "    <tr>\n",
       "      <th>2016-03-20</th>\n",
       "      <td>12</td>\n",
       "    </tr>\n",
       "    <tr>\n",
       "      <th>2016-03-21</th>\n",
       "      <td>18</td>\n",
       "    </tr>\n",
       "  </tbody>\n",
       "</table>\n",
       "</div>"
      ],
      "text/plain": [
       "            TICKET\n",
       "DATE              \n",
       "2016-03-17      65\n",
       "2016-03-18      18\n",
       "2016-03-19      18\n",
       "2016-03-20      12\n",
       "2016-03-21      18"
      ]
     },
     "execution_count": 145,
     "metadata": {},
     "output_type": "execute_result"
    }
   ],
   "source": [
    "df_sales_daily = df_temp[['DATE','TICKET']].groupby('DATE').count()\n",
    "df_sales_daily.head()"
   ]
  },
  {
   "cell_type": "code",
   "execution_count": 146,
   "metadata": {},
   "outputs": [
    {
     "data": {
      "text/plain": [
       "(1144, 1)"
      ]
     },
     "execution_count": 146,
     "metadata": {},
     "output_type": "execute_result"
    }
   ],
   "source": [
    "df_sales_daily.shape"
   ]
  },
  {
   "cell_type": "markdown",
   "metadata": {},
   "source": [
    "## Train-Test Split ##\n",
    "\n",
    "### In our data, we are reserving the last three months (90 days) of our data for testing purposes. All the other data is used for training. ###"
   ]
  },
  {
   "cell_type": "code",
   "execution_count": 147,
   "metadata": {
    "colab": {},
    "colab_type": "code",
    "id": "1L-nbNFgfgaV"
   },
   "outputs": [],
   "source": [
    "train = df_sales_daily.iloc[:-90]\n",
    "test = df_sales_daily.iloc[-90:]"
   ]
  },
  {
   "cell_type": "code",
   "execution_count": 148,
   "metadata": {
    "colab": {},
    "colab_type": "code",
    "id": "qpZyq_bc9hU0"
   },
   "outputs": [
    {
     "data": {
      "text/html": [
       "<div>\n",
       "<style scoped>\n",
       "    .dataframe tbody tr th:only-of-type {\n",
       "        vertical-align: middle;\n",
       "    }\n",
       "\n",
       "    .dataframe tbody tr th {\n",
       "        vertical-align: top;\n",
       "    }\n",
       "\n",
       "    .dataframe thead th {\n",
       "        text-align: right;\n",
       "    }\n",
       "</style>\n",
       "<table border=\"1\" class=\"dataframe\">\n",
       "  <thead>\n",
       "    <tr style=\"text-align: right;\">\n",
       "      <th></th>\n",
       "      <th>TICKET</th>\n",
       "    </tr>\n",
       "    <tr>\n",
       "      <th>DATE</th>\n",
       "      <th></th>\n",
       "    </tr>\n",
       "  </thead>\n",
       "  <tbody>\n",
       "    <tr>\n",
       "      <th>2019-06-14</th>\n",
       "      <td>5</td>\n",
       "    </tr>\n",
       "    <tr>\n",
       "      <th>2019-06-15</th>\n",
       "      <td>6</td>\n",
       "    </tr>\n",
       "    <tr>\n",
       "      <th>2019-06-16</th>\n",
       "      <td>3</td>\n",
       "    </tr>\n",
       "    <tr>\n",
       "      <th>2019-06-17</th>\n",
       "      <td>9</td>\n",
       "    </tr>\n",
       "    <tr>\n",
       "      <th>2019-06-18</th>\n",
       "      <td>3</td>\n",
       "    </tr>\n",
       "  </tbody>\n",
       "</table>\n",
       "</div>"
      ],
      "text/plain": [
       "            TICKET\n",
       "DATE              \n",
       "2019-06-14       5\n",
       "2019-06-15       6\n",
       "2019-06-16       3\n",
       "2019-06-17       9\n",
       "2019-06-18       3"
      ]
     },
     "execution_count": 148,
     "metadata": {},
     "output_type": "execute_result"
    }
   ],
   "source": [
    "train.tail()"
   ]
  },
  {
   "cell_type": "code",
   "execution_count": 119,
   "metadata": {},
   "outputs": [
    {
     "data": {
      "text/html": [
       "<div>\n",
       "<style scoped>\n",
       "    .dataframe tbody tr th:only-of-type {\n",
       "        vertical-align: middle;\n",
       "    }\n",
       "\n",
       "    .dataframe tbody tr th {\n",
       "        vertical-align: top;\n",
       "    }\n",
       "\n",
       "    .dataframe thead th {\n",
       "        text-align: right;\n",
       "    }\n",
       "</style>\n",
       "<table border=\"1\" class=\"dataframe\">\n",
       "  <thead>\n",
       "    <tr style=\"text-align: right;\">\n",
       "      <th></th>\n",
       "      <th>TICKET</th>\n",
       "    </tr>\n",
       "    <tr>\n",
       "      <th>DAY</th>\n",
       "      <th></th>\n",
       "    </tr>\n",
       "  </thead>\n",
       "  <tbody>\n",
       "    <tr>\n",
       "      <th>2019-06-19</th>\n",
       "      <td>4</td>\n",
       "    </tr>\n",
       "    <tr>\n",
       "      <th>2019-06-20</th>\n",
       "      <td>6</td>\n",
       "    </tr>\n",
       "    <tr>\n",
       "      <th>2019-06-21</th>\n",
       "      <td>4</td>\n",
       "    </tr>\n",
       "    <tr>\n",
       "      <th>2019-06-22</th>\n",
       "      <td>6</td>\n",
       "    </tr>\n",
       "    <tr>\n",
       "      <th>2019-06-23</th>\n",
       "      <td>3</td>\n",
       "    </tr>\n",
       "  </tbody>\n",
       "</table>\n",
       "</div>"
      ],
      "text/plain": [
       "            TICKET\n",
       "DAY               \n",
       "2019-06-19       4\n",
       "2019-06-20       6\n",
       "2019-06-21       4\n",
       "2019-06-22       6\n",
       "2019-06-23       3"
      ]
     },
     "execution_count": 119,
     "metadata": {},
     "output_type": "execute_result"
    }
   ],
   "source": [
    "test.head()"
   ]
  },
  {
   "cell_type": "markdown",
   "metadata": {},
   "source": [
    "## Modelling ##"
   ]
  },
  {
   "cell_type": "code",
   "execution_count": 151,
   "metadata": {
    "colab": {},
    "colab_type": "code",
    "id": "w2b-DNeys6rK"
   },
   "outputs": [
    {
     "name": "stdout",
     "output_type": "stream",
     "text": [
      "Results of dickey fuller test\n",
      "Test Statistics                  -2.546846\n",
      "p-value                           0.104488\n",
      "No. of lags used                 21.000000\n",
      "Number of observations used    1032.000000\n",
      "critical value (1%)              -3.436702\n",
      "dtype: float64\n",
      "Test Statistics                  -2.546846\n",
      "p-value                           0.104488\n",
      "No. of lags used                 21.000000\n",
      "Number of observations used    1032.000000\n",
      "critical value (1%)              -3.436702\n",
      "critical value (5%)              -2.864345\n",
      "dtype: float64\n",
      "Test Statistics                  -2.546846\n",
      "p-value                           0.104488\n",
      "No. of lags used                 21.000000\n",
      "Number of observations used    1032.000000\n",
      "critical value (1%)              -3.436702\n",
      "critical value (5%)              -2.864345\n",
      "critical value (10%)             -2.568263\n",
      "dtype: float64\n"
     ]
    }
   ],
   "source": [
    "from statsmodels.tsa.stattools import adfuller\n",
    "\n",
    "def test_stationarity(timeseries):\n",
    " print('Results of dickey fuller test')\n",
    " adft = adfuller(timeseries, autolag='AIC')\n",
    " # output for dft will give us without defining what the values are.\n",
    " #hence we manually write what values does it explains using a for loop\n",
    " output = pd.Series(adft[0:4],index=['Test Statistics','p-value','No. of lags used','Number of observations used'])\n",
    " for key,values in adft[4].items():\n",
    "   output['critical value (%s)'%key] = values\n",
    "   print(output)\n",
    " \n",
    "test_stationarity(train['TICKET'])"
   ]
  },
  {
   "cell_type": "markdown",
   "metadata": {},
   "source": [
    "We notice that the p-value is greater than 0.05. Thus, we need to modify our calculations."
   ]
  },
  {
   "cell_type": "code",
   "execution_count": 152,
   "metadata": {
    "colab": {},
    "colab_type": "code",
    "id": "IJvdN4s1tZ8_"
   },
   "outputs": [
    {
     "data": {
      "image/png": "[encoded data removed]",
      "text/plain": [
       "<Figure size 432x288 with 1 Axes>"
      ]
     },
     "metadata": {
      "needs_background": "light"
     },
     "output_type": "display_data"
    }
   ],
   "source": [
    "import numpy as np\n",
    "\n",
    "train_log = np.log(train['TICKET']) \n",
    "test_log = np.log(test['TICKET'].values)\n",
    "moving_avg = train_log.rolling(365).mean() \n",
    "plt.plot(train_log.values) \n",
    "plt.plot(moving_avg.values, color = 'red') \n",
    "plt.show()"
   ]
  },
  {
   "cell_type": "code",
   "execution_count": 153,
   "metadata": {
    "colab": {},
    "colab_type": "code",
    "id": "ci3lmByfx2Db"
   },
   "outputs": [],
   "source": [
    "train_log_moving_avg_diff = train_log - moving_avg"
   ]
  },
  {
   "cell_type": "code",
   "execution_count": 154,
   "metadata": {
    "colab": {},
    "colab_type": "code",
    "id": "P-C0uHj0zpY5"
   },
   "outputs": [
    {
     "name": "stdout",
     "output_type": "stream",
     "text": [
      "Results of dickey fuller test\n",
      "Test Statistics                 -2.513637\n",
      "p-value                          0.112191\n",
      "No. of lags used                 6.000000\n",
      "Number of observations used    683.000000\n",
      "critical value (1%)             -3.439961\n",
      "dtype: float64\n",
      "Test Statistics                 -2.513637\n",
      "p-value                          0.112191\n",
      "No. of lags used                 6.000000\n",
      "Number of observations used    683.000000\n",
      "critical value (1%)             -3.439961\n",
      "critical value (5%)             -2.865781\n",
      "dtype: float64\n",
      "Test Statistics                 -2.513637\n",
      "p-value                          0.112191\n",
      "No. of lags used                 6.000000\n",
      "Number of observations used    683.000000\n",
      "critical value (1%)             -3.439961\n",
      "critical value (5%)             -2.865781\n",
      "critical value (10%)            -2.569028\n",
      "dtype: float64\n"
     ]
    },
    {
     "data": {
      "text/plain": [
       "(None, None)"
      ]
     },
     "execution_count": 154,
     "metadata": {},
     "output_type": "execute_result"
    }
   ],
   "source": [
    "train_log_moving_avg_diff.dropna(inplace = True), test_stationarity(train_log_moving_avg_diff)"
   ]
  },
  {
   "cell_type": "code",
   "execution_count": 155,
   "metadata": {
    "colab": {},
    "colab_type": "code",
    "id": "y6RrYKETzqfm"
   },
   "outputs": [
    {
     "name": "stdout",
     "output_type": "stream",
     "text": [
      "Results of dickey fuller test\n",
      "Test Statistics                 -22.861827\n",
      "p-value                           0.000000\n",
      "No. of lags used                  5.000000\n",
      "Number of observations used    1047.000000\n",
      "critical value (1%)              -3.436611\n",
      "dtype: float64\n",
      "Test Statistics                 -22.861827\n",
      "p-value                           0.000000\n",
      "No. of lags used                  5.000000\n",
      "Number of observations used    1047.000000\n",
      "critical value (1%)              -3.436611\n",
      "critical value (5%)              -2.864304\n",
      "dtype: float64\n",
      "Test Statistics                 -22.861827\n",
      "p-value                           0.000000\n",
      "No. of lags used                  5.000000\n",
      "Number of observations used    1047.000000\n",
      "critical value (1%)              -3.436611\n",
      "critical value (5%)              -2.864304\n",
      "critical value (10%)             -2.568242\n",
      "dtype: float64\n"
     ]
    }
   ],
   "source": [
    "train_log_diff = train_log - train_log.shift(1) \n",
    "test_stationarity(train_log_diff.dropna())"
   ]
  },
  {
   "cell_type": "markdown",
   "metadata": {
    "colab_type": "text",
    "id": "n6SFktUx0A-O"
   },
   "source": [
    "## Removing Seasonality ##"
   ]
  },
  {
   "cell_type": "code",
   "execution_count": 156,
   "metadata": {
    "colab": {},
    "colab_type": "code",
    "id": "KZMrSPzh2Hft"
   },
   "outputs": [
    {
     "name": "stderr",
     "output_type": "stream",
     "text": [
      "C:\\Users\\iGuest\\Anaconda3\\lib\\site-packages\\ipykernel_launcher.py:2: FutureWarning: the 'freq'' keyword is deprecated, use 'period' instead\n",
      "  \n"
     ]
    },
    {
     "data": {
      "image/png": "[encoded data removed]",
      "text/plain": [
       "<Figure size 432x288 with 4 Axes>"
      ]
     },
     "metadata": {
      "needs_background": "light"
     },
     "output_type": "display_data"
    }
   ],
   "source": [
    "from statsmodels.tsa.seasonal import seasonal_decompose\n",
    "decomposition = seasonal_decompose(train_log, model='additive', freq=365)\n",
    "\n",
    "trend = decomposition.trend\n",
    "seasonal = decomposition.seasonal\n",
    "residual = decomposition.resid\n",
    "\n",
    "plt.subplot(411)\n",
    "plt.plot(train_log.values, label='Original')\n",
    "plt.legend(loc='best')\n",
    "plt.subplot(412)\n",
    "plt.plot(trend.values, label='Trend')\n",
    "plt.legend(loc='best')\n",
    "plt.subplot(413)\n",
    "plt.plot(seasonal.values,label='Seasonality')\n",
    "plt.legend(loc='best')\n",
    "plt.subplot(414)\n",
    "plt.plot(residual.values, label='Residuals')\n",
    "plt.legend(loc='best')\n",
    "plt.tight_layout()"
   ]
  },
  {
   "cell_type": "code",
   "execution_count": 157,
   "metadata": {
    "colab": {},
    "colab_type": "code",
    "id": "ub0PNd0Pz4qL"
   },
   "outputs": [],
   "source": [
    "train_log_decompose = pd.DataFrame(residual) \n",
    "train_log_decompose['date'] = train_log.index \n",
    "train_log_decompose.set_index('date', inplace = True)"
   ]
  },
  {
   "cell_type": "code",
   "execution_count": 158,
   "metadata": {
    "colab": {},
    "colab_type": "code",
    "id": "Quw5pUe-6fOB"
   },
   "outputs": [
    {
     "name": "stdout",
     "output_type": "stream",
     "text": [
      "Results of dickey fuller test\n",
      "Test Statistics                 -2.554307\n",
      "p-value                          0.102814\n",
      "No. of lags used                12.000000\n",
      "Number of observations used    677.000000\n",
      "critical value (1%)             -3.440046\n",
      "dtype: float64\n",
      "Test Statistics                 -2.554307\n",
      "p-value                          0.102814\n",
      "No. of lags used                12.000000\n",
      "Number of observations used    677.000000\n",
      "critical value (1%)             -3.440046\n",
      "critical value (5%)             -2.865819\n",
      "dtype: float64\n",
      "Test Statistics                 -2.554307\n",
      "p-value                          0.102814\n",
      "No. of lags used                12.000000\n",
      "Number of observations used    677.000000\n",
      "critical value (1%)             -3.440046\n",
      "critical value (5%)             -2.865819\n",
      "critical value (10%)            -2.569049\n",
      "dtype: float64\n"
     ]
    }
   ],
   "source": [
    "train_log_decompose = pd.DataFrame(residual) \n",
    "train_log_decompose['date'] = train_log.index \n",
    "train_log_decompose.set_index('date', inplace = True)\n",
    "train_log_decompose.dropna(inplace=True) \n",
    "test_stationarity(train_log_decompose.iloc[:,0].values)"
   ]
  },
  {
   "cell_type": "code",
   "execution_count": null,
   "metadata": {},
   "outputs": [
    {
     "name": "stdout",
     "output_type": "stream",
     "text": [
      "Performing stepwise search to minimize aic\n",
      "Fit ARIMA(2,0,1)x(0,1,1,12) [intercept=True]; AIC=1534.838, BIC=1564.531, Time=20.596 seconds\n",
      "Fit ARIMA(0,0,0)x(0,1,0,12) [intercept=True]; AIC=2438.185, BIC=2448.083, Time=1.464 seconds\n",
      "Fit ARIMA(1,0,0)x(1,1,0,12) [intercept=True]; AIC=2026.644, BIC=2046.440, Time=5.948 seconds\n",
      "Fit ARIMA(0,0,1)x(0,1,1,12) [intercept=True]; AIC=2081.333, BIC=2101.128, Time=4.389 seconds\n",
      "Fit ARIMA(0,0,0)x(0,1,0,12) [intercept=False]; AIC=2436.517, BIC=2441.466, Time=0.164 seconds\n",
      "Fit ARIMA(2,0,1)x(0,1,0,12) [intercept=True]; AIC=2216.523, BIC=2241.268, Time=1.898 seconds\n",
      "Fit ARIMA(2,0,1)x(1,1,1,12) [intercept=True]; AIC=1532.261, BIC=1566.904, Time=23.299 seconds\n",
      "Near non-invertible roots for order (2, 0, 1)(1, 1, 1, 12); setting score to inf (at least one inverse root too close to the border of the unit circle: 1.000)\n",
      "Fit ARIMA(2,0,1)x(0,1,2,12) [intercept=True]; AIC=1532.379, BIC=1567.022, Time=95.413 seconds\n",
      "Near non-invertible roots for order (2, 0, 1)(0, 1, 2, 12); setting score to inf (at least one inverse root too close to the border of the unit circle: 1.000)\n",
      "Fit ARIMA(2,0,1)x(1,1,0,12) [intercept=True]; AIC=1894.304, BIC=1923.997, Time=9.376 seconds\n"
     ]
    }
   ],
   "source": [
    "import pmdarima\n",
    "\n",
    "# Seasonal - fit stepwise auto-ARIMA\n",
    "smodel = pmdarima.auto_arima(train_log, start_p=2, start_q=1,\n",
    "                         test='adf',\n",
    "                         max_p=3, max_q=3, m=12,\n",
    "                         start_P=0, seasonal=True,\n",
    "                         d=None, D=1, trace=True,\n",
    "                         error_action='ignore',  \n",
    "                         suppress_warnings=True, \n",
    "                         stepwise=True)\n",
    "\n",
    "smodel.summary()"
   ]
  },
  {
   "cell_type": "code",
   "execution_count": null,
   "metadata": {
    "colab": {},
    "colab_type": "code",
    "id": "V8HreKjfZuDH"
   },
   "outputs": [],
   "source": [
    "# Forecast\n",
    "n_periods = 8\n",
    "fitted, confint = smodel.predict(n_periods=n_periods, return_conf_int=True)\n",
    "index_of_fc = pd.date_range(train_log.index[-1].to_timestamp(freq ='D'), periods = n_periods, freq='MS')\n",
    "\n",
    "# make series for plotting purpose\n",
    "fitted_series = pd.Series(fitted, index=index_of_fc)\n",
    "lower_series = pd.Series(confint[:, 0], index=index_of_fc)\n",
    "upper_series = pd.Series(confint[:, 1], index=index_of_fc)\n"
   ]
  },
  {
   "cell_type": "code",
   "execution_count": null,
   "metadata": {},
   "outputs": [],
   "source": [
    "# Plot\n",
    "plt.plot(train_log.to_timestamp(freq ='D'))\n",
    "plt.plot(fitted_series, color='darkgreen')"
   ]
  },
  {
   "cell_type": "code",
   "execution_count": 137,
   "metadata": {},
   "outputs": [
    {
     "ename": "ValueError",
     "evalue": "Found input variables with inconsistent numbers of samples: [90, 8]",
     "output_type": "error",
     "traceback": [
      "\u001b[1;31m---------------------------------------------------------------------------\u001b[0m",
      "\u001b[1;31mValueError\u001b[0m                                Traceback (most recent call last)",
      "\u001b[1;32m<ipython-input-137-c4d2639f5e97>\u001b[0m in \u001b[0;36m<module>\u001b[1;34m\u001b[0m\n\u001b[0;32m      1\u001b[0m \u001b[1;32mfrom\u001b[0m \u001b[0mmath\u001b[0m \u001b[1;32mimport\u001b[0m \u001b[0msqrt\u001b[0m\u001b[1;33m\u001b[0m\u001b[1;33m\u001b[0m\u001b[0m\n\u001b[0;32m      2\u001b[0m \u001b[1;32mfrom\u001b[0m \u001b[0msklearn\u001b[0m\u001b[1;33m.\u001b[0m\u001b[0mmetrics\u001b[0m \u001b[1;32mimport\u001b[0m \u001b[0mmean_squared_error\u001b[0m\u001b[1;33m\u001b[0m\u001b[1;33m\u001b[0m\u001b[0m\n\u001b[1;32m----> 3\u001b[1;33m \u001b[0mrms\u001b[0m \u001b[1;33m=\u001b[0m \u001b[0msqrt\u001b[0m\u001b[1;33m(\u001b[0m\u001b[0mmean_squared_error\u001b[0m\u001b[1;33m(\u001b[0m\u001b[0mtest_log\u001b[0m\u001b[1;33m,\u001b[0m\u001b[0mfitted_series\u001b[0m\u001b[1;33m)\u001b[0m\u001b[1;33m)\u001b[0m\u001b[1;33m\u001b[0m\u001b[1;33m\u001b[0m\u001b[0m\n\u001b[0m\u001b[0;32m      4\u001b[0m \u001b[0mprint\u001b[0m\u001b[1;33m(\u001b[0m\u001b[1;34m\"RMSE: \"\u001b[0m\u001b[1;33m,\u001b[0m \u001b[0mrms\u001b[0m\u001b[1;33m)\u001b[0m\u001b[1;33m\u001b[0m\u001b[1;33m\u001b[0m\u001b[0m\n",
      "\u001b[1;32m~\\Anaconda3\\lib\\site-packages\\sklearn\\metrics\\_regression.py\u001b[0m in \u001b[0;36mmean_squared_error\u001b[1;34m(y_true, y_pred, sample_weight, multioutput, squared)\u001b[0m\n\u001b[0;32m    250\u001b[0m     \"\"\"\n\u001b[0;32m    251\u001b[0m     y_type, y_true, y_pred, multioutput = _check_reg_targets(\n\u001b[1;32m--> 252\u001b[1;33m         y_true, y_pred, multioutput)\n\u001b[0m\u001b[0;32m    253\u001b[0m     \u001b[0mcheck_consistent_length\u001b[0m\u001b[1;33m(\u001b[0m\u001b[0my_true\u001b[0m\u001b[1;33m,\u001b[0m \u001b[0my_pred\u001b[0m\u001b[1;33m,\u001b[0m \u001b[0msample_weight\u001b[0m\u001b[1;33m)\u001b[0m\u001b[1;33m\u001b[0m\u001b[1;33m\u001b[0m\u001b[0m\n\u001b[0;32m    254\u001b[0m     output_errors = np.average((y_true - y_pred) ** 2, axis=0,\n",
      "\u001b[1;32m~\\Anaconda3\\lib\\site-packages\\sklearn\\metrics\\_regression.py\u001b[0m in \u001b[0;36m_check_reg_targets\u001b[1;34m(y_true, y_pred, multioutput, dtype)\u001b[0m\n\u001b[0;32m     82\u001b[0m \u001b[1;33m\u001b[0m\u001b[0m\n\u001b[0;32m     83\u001b[0m     \"\"\"\n\u001b[1;32m---> 84\u001b[1;33m     \u001b[0mcheck_consistent_length\u001b[0m\u001b[1;33m(\u001b[0m\u001b[0my_true\u001b[0m\u001b[1;33m,\u001b[0m \u001b[0my_pred\u001b[0m\u001b[1;33m)\u001b[0m\u001b[1;33m\u001b[0m\u001b[1;33m\u001b[0m\u001b[0m\n\u001b[0m\u001b[0;32m     85\u001b[0m     \u001b[0my_true\u001b[0m \u001b[1;33m=\u001b[0m \u001b[0mcheck_array\u001b[0m\u001b[1;33m(\u001b[0m\u001b[0my_true\u001b[0m\u001b[1;33m,\u001b[0m \u001b[0mensure_2d\u001b[0m\u001b[1;33m=\u001b[0m\u001b[1;32mFalse\u001b[0m\u001b[1;33m,\u001b[0m \u001b[0mdtype\u001b[0m\u001b[1;33m=\u001b[0m\u001b[0mdtype\u001b[0m\u001b[1;33m)\u001b[0m\u001b[1;33m\u001b[0m\u001b[1;33m\u001b[0m\u001b[0m\n\u001b[0;32m     86\u001b[0m     \u001b[0my_pred\u001b[0m \u001b[1;33m=\u001b[0m \u001b[0mcheck_array\u001b[0m\u001b[1;33m(\u001b[0m\u001b[0my_pred\u001b[0m\u001b[1;33m,\u001b[0m \u001b[0mensure_2d\u001b[0m\u001b[1;33m=\u001b[0m\u001b[1;32mFalse\u001b[0m\u001b[1;33m,\u001b[0m \u001b[0mdtype\u001b[0m\u001b[1;33m=\u001b[0m\u001b[0mdtype\u001b[0m\u001b[1;33m)\u001b[0m\u001b[1;33m\u001b[0m\u001b[1;33m\u001b[0m\u001b[0m\n",
      "\u001b[1;32m~\\Anaconda3\\lib\\site-packages\\sklearn\\utils\\validation.py\u001b[0m in \u001b[0;36mcheck_consistent_length\u001b[1;34m(*arrays)\u001b[0m\n\u001b[0;32m    210\u001b[0m     \u001b[1;32mif\u001b[0m \u001b[0mlen\u001b[0m\u001b[1;33m(\u001b[0m\u001b[0muniques\u001b[0m\u001b[1;33m)\u001b[0m \u001b[1;33m>\u001b[0m \u001b[1;36m1\u001b[0m\u001b[1;33m:\u001b[0m\u001b[1;33m\u001b[0m\u001b[1;33m\u001b[0m\u001b[0m\n\u001b[0;32m    211\u001b[0m         raise ValueError(\"Found input variables with inconsistent numbers of\"\n\u001b[1;32m--> 212\u001b[1;33m                          \" samples: %r\" % [int(l) for l in lengths])\n\u001b[0m\u001b[0;32m    213\u001b[0m \u001b[1;33m\u001b[0m\u001b[0m\n\u001b[0;32m    214\u001b[0m \u001b[1;33m\u001b[0m\u001b[0m\n",
      "\u001b[1;31mValueError\u001b[0m: Found input variables with inconsistent numbers of samples: [90, 8]"
     ]
    }
   ],
   "source": [
    "from math import sqrt\n",
    "from sklearn.metrics import mean_squared_error\n",
    "rms = sqrt(mean_squared_error(test_log,fitted_series))\n",
    "print(\"RMSE: \", rms)"
   ]
  },
  {
   "cell_type": "code",
   "execution_count": 149,
   "metadata": {},
   "outputs": [
    {
     "data": {
      "text/plain": [
       "90"
      ]
     },
     "execution_count": 149,
     "metadata": {},
     "output_type": "execute_result"
    }
   ],
   "source": [
    "len(test_log)"
   ]
  },
  {
   "cell_type": "code",
   "execution_count": null,
   "metadata": {},
   "outputs": [],
   "source": [
    "len(fitted_series)"
   ]
  },
  {
   "cell_type": "code",
   "execution_count": null,
   "metadata": {},
   "outputs": [],
   "source": []
  }
 ],
 "metadata": {
  "colab": {
   "collapsed_sections": [],
   "name": "Datathon.ipynb",
   "provenance": []
  },
  "kernelspec": {
   "display_name": "Python 3",
   "language": "python",
   "name": "python3"
  },
  "language_info": {
   "codemirror_mode": {
    "name": "ipython",
    "version": 3
   },
   "file_extension": ".py",
   "mimetype": "text/x-python",
   "name": "python",
   "nbconvert_exporter": "python",
   "pygments_lexer": "ipython3",
   "version": "3.7.3"
  }
 },
 "nbformat": 4,
 "nbformat_minor": 1
}
